{
 "cells": [
  {
   "cell_type": "code",
   "execution_count": 2,
   "metadata": {},
   "outputs": [],
   "source": [
    "import pandas as pd\n",
    "import numpy as np\n",
    "df = pd.read_csv(\"Working_file_v13_1.csv\")"
   ]
  },
  {
   "cell_type": "code",
   "execution_count": null,
   "metadata": {},
   "outputs": [],
   "source": [
    "df"
   ]
  },
  {
   "cell_type": "code",
   "execution_count": 58,
   "metadata": {},
   "outputs": [],
   "source": [
    "selected_df = df[[\"ye1_38b\", \"ye1_38c\", \"total_expend\", \"status\", \"hhtype\", \"y_nfm\", \"total_food\"]] "
   ]
  },
  {
   "cell_type": "code",
   "execution_count": 59,
   "metadata": {},
   "outputs": [],
   "source": [
    "selected_df = selected_df[selected_df[\"total_expend\"] != 0]"
   ]
  },
  {
   "cell_type": "code",
   "execution_count": 60,
   "metadata": {},
   "outputs": [
    {
     "data": {
      "text/plain": [
       "(4542, 7)"
      ]
     },
     "execution_count": 60,
     "metadata": {},
     "output_type": "execute_result"
    }
   ],
   "source": [
    "selected_df.shape"
   ]
  },
  {
   "cell_type": "code",
   "execution_count": null,
   "metadata": {},
   "outputs": [],
   "source": []
  },
  {
   "cell_type": "code",
   "execution_count": 61,
   "metadata": {},
   "outputs": [],
   "source": [
    "# Функция для вычисления перцентиля для каждого значения\n",
    "#selected_df['percentile'] = selected_df['total_expend'].rank(pct=True) * 100"
   ]
  },
  {
   "cell_type": "code",
   "execution_count": 62,
   "metadata": {},
   "outputs": [],
   "source": [
    "selected_df['percentile'] = pd.qcut(selected_df['total_expend'], q=100, labels=False) + 1"
   ]
  },
  {
   "cell_type": "code",
   "execution_count": 63,
   "metadata": {},
   "outputs": [
    {
     "data": {
      "text/html": [
       "<div>\n",
       "<style scoped>\n",
       "    .dataframe tbody tr th:only-of-type {\n",
       "        vertical-align: middle;\n",
       "    }\n",
       "\n",
       "    .dataframe tbody tr th {\n",
       "        vertical-align: top;\n",
       "    }\n",
       "\n",
       "    .dataframe thead th {\n",
       "        text-align: right;\n",
       "    }\n",
       "</style>\n",
       "<table border=\"1\" class=\"dataframe\">\n",
       "  <thead>\n",
       "    <tr style=\"text-align: right;\">\n",
       "      <th></th>\n",
       "      <th>ye1_38b</th>\n",
       "      <th>ye1_38c</th>\n",
       "      <th>total_expend</th>\n",
       "      <th>status</th>\n",
       "      <th>hhtype</th>\n",
       "      <th>y_nfm</th>\n",
       "      <th>total_food</th>\n",
       "      <th>percentile</th>\n",
       "    </tr>\n",
       "  </thead>\n",
       "  <tbody>\n",
       "    <tr>\n",
       "      <th>0</th>\n",
       "      <td>0.0</td>\n",
       "      <td>0.00</td>\n",
       "      <td>31943.421875</td>\n",
       "      <td>3.0</td>\n",
       "      <td>глава Женщина пенс возраста</td>\n",
       "      <td>1.0</td>\n",
       "      <td>9099.440430</td>\n",
       "      <td>52</td>\n",
       "    </tr>\n",
       "    <tr>\n",
       "      <th>1</th>\n",
       "      <td>0.0</td>\n",
       "      <td>0.00</td>\n",
       "      <td>25445.679688</td>\n",
       "      <td>3.0</td>\n",
       "      <td>глава Женщина пенс возраста</td>\n",
       "      <td>1.0</td>\n",
       "      <td>6879.679688</td>\n",
       "      <td>41</td>\n",
       "    </tr>\n",
       "    <tr>\n",
       "      <th>2</th>\n",
       "      <td>1.0</td>\n",
       "      <td>334.29</td>\n",
       "      <td>10472.860352</td>\n",
       "      <td>3.0</td>\n",
       "      <td>глава Женщина пенс возраста</td>\n",
       "      <td>1.0</td>\n",
       "      <td>3852.860107</td>\n",
       "      <td>8</td>\n",
       "    </tr>\n",
       "    <tr>\n",
       "      <th>3</th>\n",
       "      <td>0.0</td>\n",
       "      <td>0.00</td>\n",
       "      <td>56543.460938</td>\n",
       "      <td>3.0</td>\n",
       "      <td>глава Мужчина трудоспос возраста</td>\n",
       "      <td>4.0</td>\n",
       "      <td>26568.109375</td>\n",
       "      <td>79</td>\n",
       "    </tr>\n",
       "    <tr>\n",
       "      <th>4</th>\n",
       "      <td>0.0</td>\n",
       "      <td>0.00</td>\n",
       "      <td>53498.511719</td>\n",
       "      <td>3.0</td>\n",
       "      <td>глава Мужчина трудоспос возраста</td>\n",
       "      <td>3.0</td>\n",
       "      <td>20237.902344</td>\n",
       "      <td>77</td>\n",
       "    </tr>\n",
       "  </tbody>\n",
       "</table>\n",
       "</div>"
      ],
      "text/plain": [
       "   ye1_38b  ye1_38c  total_expend  status                            hhtype  \\\n",
       "0      0.0     0.00  31943.421875     3.0       глава Женщина пенс возраста   \n",
       "1      0.0     0.00  25445.679688     3.0       глава Женщина пенс возраста   \n",
       "2      1.0   334.29  10472.860352     3.0       глава Женщина пенс возраста   \n",
       "3      0.0     0.00  56543.460938     3.0  глава Мужчина трудоспос возраста   \n",
       "4      0.0     0.00  53498.511719     3.0  глава Мужчина трудоспос возраста   \n",
       "\n",
       "   y_nfm    total_food  percentile  \n",
       "0    1.0   9099.440430          52  \n",
       "1    1.0   6879.679688          41  \n",
       "2    1.0   3852.860107           8  \n",
       "3    4.0  26568.109375          79  \n",
       "4    3.0  20237.902344          77  "
      ]
     },
     "execution_count": 63,
     "metadata": {},
     "output_type": "execute_result"
    }
   ],
   "source": [
    "selected_df.head()"
   ]
  },
  {
   "cell_type": "code",
   "execution_count": 65,
   "metadata": {},
   "outputs": [],
   "source": [
    "from sklearn.pipeline import make_pipeline\n",
    "from sklearn.preprocessing import OneHotEncoder\n",
    "from sklearn.compose import ColumnTransformer\n",
    "\n",
    "preprocessing = ColumnTransformer(\n",
    "    transformers=[\n",
    "        (\"onehot\", OneHotEncoder(handle_unknown='ignore'), [\"hhtype\"])  # Имя трансформера, трансформер, список столбцов\n",
    "    ],\n",
    "    remainder=\"passthrough\"  # Оставить остальные столбцы без изменений\n",
    ")\n"
   ]
  },
  {
   "cell_type": "code",
   "execution_count": 66,
   "metadata": {},
   "outputs": [],
   "source": [
    "train = selected_df[(selected_df[\"ye1_38b\"] != 0) & (selected_df[\"ye1_38c\"] != 0)]"
   ]
  },
  {
   "cell_type": "code",
   "execution_count": 67,
   "metadata": {},
   "outputs": [],
   "source": [
    "test = selected_df[(selected_df[\"ye1_38b\"] == 0) | (selected_df[\"ye1_38c\"] == 0)]"
   ]
  },
  {
   "cell_type": "code",
   "execution_count": 68,
   "metadata": {},
   "outputs": [
    {
     "data": {
      "text/plain": [
       "(2635, 8)"
      ]
     },
     "execution_count": 68,
     "metadata": {},
     "output_type": "execute_result"
    }
   ],
   "source": [
    "test.shape"
   ]
  },
  {
   "cell_type": "code",
   "execution_count": 69,
   "metadata": {},
   "outputs": [
    {
     "data": {
      "text/plain": [
       "(1907, 8)"
      ]
     },
     "execution_count": 69,
     "metadata": {},
     "output_type": "execute_result"
    }
   ],
   "source": [
    "train.shape"
   ]
  },
  {
   "cell_type": "code",
   "execution_count": 70,
   "metadata": {},
   "outputs": [
    {
     "name": "stderr",
     "output_type": "stream",
     "text": [
      "/tmp/ipykernel_13893/3443332265.py:2: SettingWithCopyWarning: \n",
      "A value is trying to be set on a copy of a slice from a DataFrame.\n",
      "Try using .loc[row_indexer,col_indexer] = value instead\n",
      "\n",
      "See the caveats in the documentation: https://pandas.pydata.org/pandas-docs/stable/user_guide/indexing.html#returning-a-view-versus-a-copy\n",
      "  train['y'] = train[['ye1_38b', 'ye1_38c']].apply(tuple, axis=1)\n"
     ]
    }
   ],
   "source": [
    "# Преобразование значений столбца 'y' в кортежи\n",
    "train['y'] = train[['ye1_38b', 'ye1_38c']].apply(tuple, axis=1)\n",
    "\n",
    "# Затем преобразование в массив numpy\n",
    "y_train = np.array(train['y'].tolist())\n",
    "\n",
    "X_train = train.drop(columns = [\"y\", \"ye1_38b\", \"ye1_38c\"])"
   ]
  },
  {
   "cell_type": "code",
   "execution_count": 71,
   "metadata": {},
   "outputs": [],
   "source": [
    "X_test = test.drop(columns = [\"ye1_38b\", \"ye1_38c\"])"
   ]
  },
  {
   "cell_type": "code",
   "execution_count": 72,
   "metadata": {},
   "outputs": [
    {
     "data": {
      "text/html": [
       "<div>\n",
       "<style scoped>\n",
       "    .dataframe tbody tr th:only-of-type {\n",
       "        vertical-align: middle;\n",
       "    }\n",
       "\n",
       "    .dataframe tbody tr th {\n",
       "        vertical-align: top;\n",
       "    }\n",
       "\n",
       "    .dataframe thead th {\n",
       "        text-align: right;\n",
       "    }\n",
       "</style>\n",
       "<table border=\"1\" class=\"dataframe\">\n",
       "  <thead>\n",
       "    <tr style=\"text-align: right;\">\n",
       "      <th></th>\n",
       "      <th>total_expend</th>\n",
       "      <th>status</th>\n",
       "      <th>hhtype</th>\n",
       "      <th>y_nfm</th>\n",
       "      <th>total_food</th>\n",
       "      <th>percentile</th>\n",
       "    </tr>\n",
       "  </thead>\n",
       "  <tbody>\n",
       "    <tr>\n",
       "      <th>2</th>\n",
       "      <td>10472.860352</td>\n",
       "      <td>3.0</td>\n",
       "      <td>глава Женщина пенс возраста</td>\n",
       "      <td>1.0</td>\n",
       "      <td>3852.860107</td>\n",
       "      <td>8</td>\n",
       "    </tr>\n",
       "    <tr>\n",
       "      <th>6</th>\n",
       "      <td>71090.804688</td>\n",
       "      <td>3.0</td>\n",
       "      <td>глава Мужчина трудоспос возраста</td>\n",
       "      <td>5.0</td>\n",
       "      <td>15743.719727</td>\n",
       "      <td>87</td>\n",
       "    </tr>\n",
       "    <tr>\n",
       "      <th>8</th>\n",
       "      <td>62335.191406</td>\n",
       "      <td>3.0</td>\n",
       "      <td>глава Мужчина трудоспос возраста</td>\n",
       "      <td>5.0</td>\n",
       "      <td>22405.312500</td>\n",
       "      <td>83</td>\n",
       "    </tr>\n",
       "    <tr>\n",
       "      <th>9</th>\n",
       "      <td>46287.742188</td>\n",
       "      <td>3.0</td>\n",
       "      <td>глава Мужчина трудоспос возраста</td>\n",
       "      <td>2.0</td>\n",
       "      <td>13868.550781</td>\n",
       "      <td>70</td>\n",
       "    </tr>\n",
       "    <tr>\n",
       "      <th>10</th>\n",
       "      <td>33488.238281</td>\n",
       "      <td>3.0</td>\n",
       "      <td>глава Мужчина трудоспос возраста</td>\n",
       "      <td>2.0</td>\n",
       "      <td>9511.508789</td>\n",
       "      <td>54</td>\n",
       "    </tr>\n",
       "    <tr>\n",
       "      <th>...</th>\n",
       "      <td>...</td>\n",
       "      <td>...</td>\n",
       "      <td>...</td>\n",
       "      <td>...</td>\n",
       "      <td>...</td>\n",
       "      <td>...</td>\n",
       "    </tr>\n",
       "    <tr>\n",
       "      <th>4537</th>\n",
       "      <td>15413.950195</td>\n",
       "      <td>1.0</td>\n",
       "      <td>глава Женщина пенс возраста</td>\n",
       "      <td>1.0</td>\n",
       "      <td>7033.950195</td>\n",
       "      <td>19</td>\n",
       "    </tr>\n",
       "    <tr>\n",
       "      <th>4538</th>\n",
       "      <td>33719.800781</td>\n",
       "      <td>3.0</td>\n",
       "      <td>глава Женщина трудоспос возраста</td>\n",
       "      <td>2.0</td>\n",
       "      <td>10450.730469</td>\n",
       "      <td>55</td>\n",
       "    </tr>\n",
       "    <tr>\n",
       "      <th>4539</th>\n",
       "      <td>39771.000000</td>\n",
       "      <td>3.0</td>\n",
       "      <td>глава Мужчина трудоспос возраста</td>\n",
       "      <td>2.0</td>\n",
       "      <td>19292.898438</td>\n",
       "      <td>63</td>\n",
       "    </tr>\n",
       "    <tr>\n",
       "      <th>4541</th>\n",
       "      <td>85950.710938</td>\n",
       "      <td>3.0</td>\n",
       "      <td>глава Мужчина трудоспос возраста</td>\n",
       "      <td>5.0</td>\n",
       "      <td>20987.541016</td>\n",
       "      <td>91</td>\n",
       "    </tr>\n",
       "    <tr>\n",
       "      <th>4542</th>\n",
       "      <td>179725.062500</td>\n",
       "      <td>3.0</td>\n",
       "      <td>глава Мужчина трудоспос возраста</td>\n",
       "      <td>5.0</td>\n",
       "      <td>15222.500977</td>\n",
       "      <td>99</td>\n",
       "    </tr>\n",
       "  </tbody>\n",
       "</table>\n",
       "<p>1907 rows × 6 columns</p>\n",
       "</div>"
      ],
      "text/plain": [
       "       total_expend  status                            hhtype  y_nfm  \\\n",
       "2      10472.860352     3.0       глава Женщина пенс возраста    1.0   \n",
       "6      71090.804688     3.0  глава Мужчина трудоспос возраста    5.0   \n",
       "8      62335.191406     3.0  глава Мужчина трудоспос возраста    5.0   \n",
       "9      46287.742188     3.0  глава Мужчина трудоспос возраста    2.0   \n",
       "10     33488.238281     3.0  глава Мужчина трудоспос возраста    2.0   \n",
       "...             ...     ...                               ...    ...   \n",
       "4537   15413.950195     1.0       глава Женщина пенс возраста    1.0   \n",
       "4538   33719.800781     3.0  глава Женщина трудоспос возраста    2.0   \n",
       "4539   39771.000000     3.0  глава Мужчина трудоспос возраста    2.0   \n",
       "4541   85950.710938     3.0  глава Мужчина трудоспос возраста    5.0   \n",
       "4542  179725.062500     3.0  глава Мужчина трудоспос возраста    5.0   \n",
       "\n",
       "        total_food  percentile  \n",
       "2      3852.860107           8  \n",
       "6     15743.719727          87  \n",
       "8     22405.312500          83  \n",
       "9     13868.550781          70  \n",
       "10     9511.508789          54  \n",
       "...            ...         ...  \n",
       "4537   7033.950195          19  \n",
       "4538  10450.730469          55  \n",
       "4539  19292.898438          63  \n",
       "4541  20987.541016          91  \n",
       "4542  15222.500977          99  \n",
       "\n",
       "[1907 rows x 6 columns]"
      ]
     },
     "execution_count": 72,
     "metadata": {},
     "output_type": "execute_result"
    }
   ],
   "source": [
    "X_train"
   ]
  },
  {
   "cell_type": "code",
   "execution_count": 73,
   "metadata": {},
   "outputs": [],
   "source": [
    "from sklearn.ensemble import RandomForestRegressor\n",
    "\n",
    "model = make_pipeline(preprocessing, RandomForestRegressor(random_state=42))\n",
    "model.fit(X_train, y_train)\n",
    "y_pred = model.predict(X_test)"
   ]
  },
  {
   "cell_type": "code",
   "execution_count": 74,
   "metadata": {},
   "outputs": [],
   "source": [
    "X_test[['ye1_38b', 'ye1_38c']] = pd.DataFrame(y_pred, index=X_test.index)"
   ]
  },
  {
   "cell_type": "code",
   "execution_count": 75,
   "metadata": {},
   "outputs": [],
   "source": [
    "final_train = train.drop(columns=\"y\")"
   ]
  },
  {
   "cell_type": "code",
   "execution_count": 76,
   "metadata": {},
   "outputs": [],
   "source": [
    "merged = pd.concat([final_train, X_test])"
   ]
  },
  {
   "cell_type": "code",
   "execution_count": 77,
   "metadata": {},
   "outputs": [],
   "source": [
    "merged.sort_index(inplace=True)"
   ]
  },
  {
   "cell_type": "code",
   "execution_count": 78,
   "metadata": {},
   "outputs": [
    {
     "name": "stdout",
     "output_type": "stream",
     "text": [
      "(4542, 8)\n",
      "(4542, 8)\n"
     ]
    }
   ],
   "source": [
    "print(selected_df.shape)\n",
    "print(merged.shape)"
   ]
  },
  {
   "cell_type": "code",
   "execution_count": 79,
   "metadata": {},
   "outputs": [],
   "source": [
    "merged[\"price_per_liter\"] = merged[\"ye1_38c\"] / merged[\"ye1_38b\"]"
   ]
  },
  {
   "cell_type": "code",
   "execution_count": 80,
   "metadata": {},
   "outputs": [
    {
     "data": {
      "text/plain": [
       "np.float64(385.71222222222224)"
      ]
     },
     "execution_count": 80,
     "metadata": {},
     "output_type": "execute_result"
    }
   ],
   "source": [
    "merged[\"price_per_liter\"].median()"
   ]
  },
  {
   "cell_type": "code",
   "execution_count": 81,
   "metadata": {},
   "outputs": [
    {
     "data": {
      "text/html": [
       "<div>\n",
       "<style scoped>\n",
       "    .dataframe tbody tr th:only-of-type {\n",
       "        vertical-align: middle;\n",
       "    }\n",
       "\n",
       "    .dataframe tbody tr th {\n",
       "        vertical-align: top;\n",
       "    }\n",
       "\n",
       "    .dataframe thead th {\n",
       "        text-align: right;\n",
       "    }\n",
       "</style>\n",
       "<table border=\"1\" class=\"dataframe\">\n",
       "  <thead>\n",
       "    <tr style=\"text-align: right;\">\n",
       "      <th></th>\n",
       "      <th>ye1_38b</th>\n",
       "      <th>ye1_38c</th>\n",
       "      <th>total_expend</th>\n",
       "      <th>status</th>\n",
       "      <th>hhtype</th>\n",
       "      <th>y_nfm</th>\n",
       "      <th>total_food</th>\n",
       "      <th>percentile</th>\n",
       "      <th>price_per_liter</th>\n",
       "    </tr>\n",
       "  </thead>\n",
       "  <tbody>\n",
       "    <tr>\n",
       "      <th>0</th>\n",
       "      <td>1.160</td>\n",
       "      <td>452.3573</td>\n",
       "      <td>31943.421875</td>\n",
       "      <td>3.0</td>\n",
       "      <td>глава Женщина пенс возраста</td>\n",
       "      <td>1.0</td>\n",
       "      <td>9099.440430</td>\n",
       "      <td>52</td>\n",
       "      <td>389.963190</td>\n",
       "    </tr>\n",
       "    <tr>\n",
       "      <th>1</th>\n",
       "      <td>1.031</td>\n",
       "      <td>365.8707</td>\n",
       "      <td>25445.679688</td>\n",
       "      <td>3.0</td>\n",
       "      <td>глава Женщина пенс возраста</td>\n",
       "      <td>1.0</td>\n",
       "      <td>6879.679688</td>\n",
       "      <td>41</td>\n",
       "      <td>354.869738</td>\n",
       "    </tr>\n",
       "    <tr>\n",
       "      <th>2</th>\n",
       "      <td>1.000</td>\n",
       "      <td>334.2900</td>\n",
       "      <td>10472.860352</td>\n",
       "      <td>3.0</td>\n",
       "      <td>глава Женщина пенс возраста</td>\n",
       "      <td>1.0</td>\n",
       "      <td>3852.860107</td>\n",
       "      <td>8</td>\n",
       "      <td>334.290000</td>\n",
       "    </tr>\n",
       "    <tr>\n",
       "      <th>3</th>\n",
       "      <td>1.167</td>\n",
       "      <td>469.8428</td>\n",
       "      <td>56543.460938</td>\n",
       "      <td>3.0</td>\n",
       "      <td>глава Мужчина трудоспос возраста</td>\n",
       "      <td>4.0</td>\n",
       "      <td>26568.109375</td>\n",
       "      <td>79</td>\n",
       "      <td>402.607369</td>\n",
       "    </tr>\n",
       "    <tr>\n",
       "      <th>4</th>\n",
       "      <td>1.001</td>\n",
       "      <td>408.3949</td>\n",
       "      <td>53498.511719</td>\n",
       "      <td>3.0</td>\n",
       "      <td>глава Мужчина трудоспос возраста</td>\n",
       "      <td>3.0</td>\n",
       "      <td>20237.902344</td>\n",
       "      <td>77</td>\n",
       "      <td>407.986913</td>\n",
       "    </tr>\n",
       "  </tbody>\n",
       "</table>\n",
       "</div>"
      ],
      "text/plain": [
       "   ye1_38b   ye1_38c  total_expend  status                            hhtype  \\\n",
       "0    1.160  452.3573  31943.421875     3.0       глава Женщина пенс возраста   \n",
       "1    1.031  365.8707  25445.679688     3.0       глава Женщина пенс возраста   \n",
       "2    1.000  334.2900  10472.860352     3.0       глава Женщина пенс возраста   \n",
       "3    1.167  469.8428  56543.460938     3.0  глава Мужчина трудоспос возраста   \n",
       "4    1.001  408.3949  53498.511719     3.0  глава Мужчина трудоспос возраста   \n",
       "\n",
       "   y_nfm    total_food  percentile  price_per_liter  \n",
       "0    1.0   9099.440430          52       389.963190  \n",
       "1    1.0   6879.679688          41       354.869738  \n",
       "2    1.0   3852.860107           8       334.290000  \n",
       "3    4.0  26568.109375          79       402.607369  \n",
       "4    3.0  20237.902344          77       407.986913  "
      ]
     },
     "execution_count": 81,
     "metadata": {},
     "output_type": "execute_result"
    }
   ],
   "source": [
    "merged.head()"
   ]
  },
  {
   "cell_type": "markdown",
   "metadata": {},
   "source": [
    "## Additional columns"
   ]
  },
  {
   "cell_type": "code",
   "execution_count": 82,
   "metadata": {},
   "outputs": [
    {
     "data": {
      "text/html": [
       "<div>\n",
       "<style scoped>\n",
       "    .dataframe tbody tr th:only-of-type {\n",
       "        vertical-align: middle;\n",
       "    }\n",
       "\n",
       "    .dataframe tbody tr th {\n",
       "        vertical-align: top;\n",
       "    }\n",
       "\n",
       "    .dataframe thead th {\n",
       "        text-align: right;\n",
       "    }\n",
       "</style>\n",
       "<table border=\"1\" class=\"dataframe\">\n",
       "  <thead>\n",
       "    <tr style=\"text-align: right;\">\n",
       "      <th></th>\n",
       "      <th>YID_H</th>\n",
       "      <th>y_origsm</th>\n",
       "      <th>psu</th>\n",
       "      <th>status</th>\n",
       "      <th>site</th>\n",
       "      <th>FAMILYN</th>\n",
       "      <th>month</th>\n",
       "      <th>y_nfm</th>\n",
       "      <th>ye1_1b</th>\n",
       "      <th>ye1_1c</th>\n",
       "      <th>...</th>\n",
       "      <th>ye20_2d</th>\n",
       "      <th>ye20_3d</th>\n",
       "      <th>ye20_4d</th>\n",
       "      <th>ye20_5d</th>\n",
       "      <th>size</th>\n",
       "      <th>total_food</th>\n",
       "      <th>total_notfood</th>\n",
       "      <th>total_expend</th>\n",
       "      <th>SETT_TYP</th>\n",
       "      <th>hhtype</th>\n",
       "    </tr>\n",
       "  </thead>\n",
       "  <tbody>\n",
       "    <tr>\n",
       "      <th>0</th>\n",
       "      <td>10003.0</td>\n",
       "      <td>1.0</td>\n",
       "      <td>6.0</td>\n",
       "      <td>3.0</td>\n",
       "      <td>1.0</td>\n",
       "      <td>3.0</td>\n",
       "      <td>10.0</td>\n",
       "      <td>1.0</td>\n",
       "      <td>0.0</td>\n",
       "      <td>0.00</td>\n",
       "      <td>...</td>\n",
       "      <td>0.000000</td>\n",
       "      <td>0.0</td>\n",
       "      <td>0.0</td>\n",
       "      <td>0.0</td>\n",
       "      <td>1.0</td>\n",
       "      <td>9099.440430</td>\n",
       "      <td>22843.982422</td>\n",
       "      <td>31943.421875</td>\n",
       "      <td>ПГТ</td>\n",
       "      <td>глава Женщина пенс возраста</td>\n",
       "    </tr>\n",
       "    <tr>\n",
       "      <th>1</th>\n",
       "      <td>10012.0</td>\n",
       "      <td>1.0</td>\n",
       "      <td>6.0</td>\n",
       "      <td>3.0</td>\n",
       "      <td>1.0</td>\n",
       "      <td>12.0</td>\n",
       "      <td>10.0</td>\n",
       "      <td>1.0</td>\n",
       "      <td>0.4</td>\n",
       "      <td>308.57</td>\n",
       "      <td>...</td>\n",
       "      <td>5975.304114</td>\n",
       "      <td>0.0</td>\n",
       "      <td>2000.0</td>\n",
       "      <td>0.0</td>\n",
       "      <td>1.0</td>\n",
       "      <td>6879.679688</td>\n",
       "      <td>18566.000000</td>\n",
       "      <td>25445.679688</td>\n",
       "      <td>ПГТ</td>\n",
       "      <td>глава Женщина пенс возраста</td>\n",
       "    </tr>\n",
       "    <tr>\n",
       "      <th>2</th>\n",
       "      <td>10014.0</td>\n",
       "      <td>1.0</td>\n",
       "      <td>6.0</td>\n",
       "      <td>3.0</td>\n",
       "      <td>1.0</td>\n",
       "      <td>14.0</td>\n",
       "      <td>10.0</td>\n",
       "      <td>1.0</td>\n",
       "      <td>0.4</td>\n",
       "      <td>175.71</td>\n",
       "      <td>...</td>\n",
       "      <td>0.000000</td>\n",
       "      <td>0.0</td>\n",
       "      <td>0.0</td>\n",
       "      <td>0.0</td>\n",
       "      <td>1.0</td>\n",
       "      <td>3852.860107</td>\n",
       "      <td>6620.000000</td>\n",
       "      <td>10472.860352</td>\n",
       "      <td>ПГТ</td>\n",
       "      <td>глава Женщина пенс возраста</td>\n",
       "    </tr>\n",
       "    <tr>\n",
       "      <th>3</th>\n",
       "      <td>10016.0</td>\n",
       "      <td>1.0</td>\n",
       "      <td>6.0</td>\n",
       "      <td>3.0</td>\n",
       "      <td>1.0</td>\n",
       "      <td>16.0</td>\n",
       "      <td>10.0</td>\n",
       "      <td>4.0</td>\n",
       "      <td>1.6</td>\n",
       "      <td>342.86</td>\n",
       "      <td>...</td>\n",
       "      <td>0.000000</td>\n",
       "      <td>1500.0</td>\n",
       "      <td>0.0</td>\n",
       "      <td>0.0</td>\n",
       "      <td>4.0</td>\n",
       "      <td>26568.109375</td>\n",
       "      <td>29975.351562</td>\n",
       "      <td>56543.460938</td>\n",
       "      <td>ПГТ</td>\n",
       "      <td>глава Мужчина трудоспос возраста</td>\n",
       "    </tr>\n",
       "    <tr>\n",
       "      <th>4</th>\n",
       "      <td>10035.0</td>\n",
       "      <td>1.0</td>\n",
       "      <td>6.0</td>\n",
       "      <td>3.0</td>\n",
       "      <td>1.0</td>\n",
       "      <td>35.0</td>\n",
       "      <td>10.0</td>\n",
       "      <td>3.0</td>\n",
       "      <td>0.4</td>\n",
       "      <td>162.86</td>\n",
       "      <td>...</td>\n",
       "      <td>0.000000</td>\n",
       "      <td>0.0</td>\n",
       "      <td>0.0</td>\n",
       "      <td>0.0</td>\n",
       "      <td>3.0</td>\n",
       "      <td>20237.902344</td>\n",
       "      <td>33260.609375</td>\n",
       "      <td>53498.511719</td>\n",
       "      <td>ПГТ</td>\n",
       "      <td>глава Мужчина трудоспос возраста</td>\n",
       "    </tr>\n",
       "  </tbody>\n",
       "</table>\n",
       "<p>5 rows × 192 columns</p>\n",
       "</div>"
      ],
      "text/plain": [
       "     YID_H  y_origsm  psu  status  site  FAMILYN  month  y_nfm  ye1_1b  \\\n",
       "0  10003.0       1.0  6.0     3.0   1.0      3.0   10.0    1.0     0.0   \n",
       "1  10012.0       1.0  6.0     3.0   1.0     12.0   10.0    1.0     0.4   \n",
       "2  10014.0       1.0  6.0     3.0   1.0     14.0   10.0    1.0     0.4   \n",
       "3  10016.0       1.0  6.0     3.0   1.0     16.0   10.0    4.0     1.6   \n",
       "4  10035.0       1.0  6.0     3.0   1.0     35.0   10.0    3.0     0.4   \n",
       "\n",
       "   ye1_1c  ...      ye20_2d  ye20_3d  ye20_4d  ye20_5d  size    total_food  \\\n",
       "0    0.00  ...     0.000000      0.0      0.0      0.0   1.0   9099.440430   \n",
       "1  308.57  ...  5975.304114      0.0   2000.0      0.0   1.0   6879.679688   \n",
       "2  175.71  ...     0.000000      0.0      0.0      0.0   1.0   3852.860107   \n",
       "3  342.86  ...     0.000000   1500.0      0.0      0.0   4.0  26568.109375   \n",
       "4  162.86  ...     0.000000      0.0      0.0      0.0   3.0  20237.902344   \n",
       "\n",
       "   total_notfood  total_expend  SETT_TYP                            hhtype  \n",
       "0   22843.982422  31943.421875       ПГТ       глава Женщина пенс возраста  \n",
       "1   18566.000000  25445.679688       ПГТ       глава Женщина пенс возраста  \n",
       "2    6620.000000  10472.860352       ПГТ       глава Женщина пенс возраста  \n",
       "3   29975.351562  56543.460938       ПГТ  глава Мужчина трудоспос возраста  \n",
       "4   33260.609375  53498.511719       ПГТ  глава Мужчина трудоспос возраста  \n",
       "\n",
       "[5 rows x 192 columns]"
      ]
     },
     "execution_count": 82,
     "metadata": {},
     "output_type": "execute_result"
    }
   ],
   "source": [
    "df.head()"
   ]
  },
  {
   "cell_type": "code",
   "execution_count": 83,
   "metadata": {},
   "outputs": [],
   "source": [
    "df[\"total_expend_per_person\"] = df[\"total_expend\"] / df[\"y_nfm\"]"
   ]
  },
  {
   "cell_type": "code",
   "execution_count": 84,
   "metadata": {},
   "outputs": [],
   "source": [
    "merged[\"total_expend_per_person\"] = merged[\"total_expend\"] / merged[\"y_nfm\"]\n",
    "merged[\"total_food_per_person\"] = merged[\"total_food\"] / merged[\"y_nfm\"]\n",
    "merged[\"ye1_38c_per_person\"] = merged[\"ye1_38c\"] / merged[\"y_nfm\"]\n"
   ]
  },
  {
   "cell_type": "code",
   "execution_count": 85,
   "metadata": {},
   "outputs": [],
   "source": [
    "merged.to_csv(\"merged.csv\", index=False)"
   ]
  },
  {
   "cell_type": "code",
   "execution_count": 86,
   "metadata": {},
   "outputs": [
    {
     "data": {
      "text/plain": [
       "(4542, 12)"
      ]
     },
     "execution_count": 86,
     "metadata": {},
     "output_type": "execute_result"
    }
   ],
   "source": [
    "merged.shape"
   ]
  }
 ],
 "metadata": {
  "kernelspec": {
   "display_name": "venv",
   "language": "python",
   "name": "python3"
  },
  "language_info": {
   "codemirror_mode": {
    "name": "ipython",
    "version": 3
   },
   "file_extension": ".py",
   "mimetype": "text/x-python",
   "name": "python",
   "nbconvert_exporter": "python",
   "pygments_lexer": "ipython3",
   "version": "3.12.5"
  }
 },
 "nbformat": 4,
 "nbformat_minor": 2
}
